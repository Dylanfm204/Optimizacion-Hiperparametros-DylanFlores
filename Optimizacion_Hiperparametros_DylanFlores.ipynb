{
  "cells": [
    {
      "cell_type": "markdown",
      "metadata": {
        "id": "view-in-github",
        "colab_type": "text"
      },
      "source": [
        "<a href=\"https://colab.research.google.com/github/Dylanfm204/Optimizacion-Hiperparametros-DylanFlores/blob/main/Optimizacion_Hiperparametros_DylanFlores.ipynb\" target=\"_parent\"><img src=\"https://colab.research.google.com/assets/colab-badge.svg\" alt=\"Open In Colab\"/></a>"
      ]
    },
    {
      "cell_type": "markdown",
      "metadata": {
        "id": "55vhZ-LKntDa"
      },
      "source": [
        "<a href=\"https://colab.research.google.com/github/andres-merino/AprendizajeAutomaticoInicial-05-N0105/blob/main/2-Ejercicios/10-Optimizacion-Hiperparametros.ipynb\" target=\"_parent\"><img src=\"https://colab.research.google.com/assets/colab-badge.svg\" alt=\"Open In Colab\"/></a>"
      ]
    },
    {
      "cell_type": "markdown",
      "metadata": {
        "id": "bofGV8NrntDd"
      },
      "source": [
        "<table style=\"border: none; border-collapse: collapse;\">\n",
        "    <tr>\n",
        "        <td style=\"width: 20%; vertical-align: middle; padding-right: 10px;\">\n",
        "            <img src=\"https://i.imgur.com/nt7hloA.png\" width=\"100\">\n",
        "        </td>\n",
        "        <td style=\"width: 2px; text-align: center;\">\n",
        "            <font color=\"#0030A1\" size=\"7\">|</font><br>\n",
        "            <font color=\"#0030A1\" size=\"7\">|</font>\n",
        "        </td>\n",
        "        <td>\n",
        "            <p style=\"font-variant: small-caps;\"><font color=\"#0030A1\" size=\"5\">\n",
        "                <b>Escuela de Ciencias Físicas y Matemática</b>\n",
        "            </font> </p>\n",
        "            <p style=\"font-variant: small-caps;\"><font color=\"#0030A1\" size=\"4\">\n",
        "                Aprendizaje Automático Inicial &bull; Optmización de Hiperparámetros\n",
        "            </font></p>\n",
        "            <p style=\"font-style: oblique;\"><font color=\"#0030A1\" size=\"3\">\n",
        "                Andrés Merino &bull; 2024-02\n",
        "            </font></p>\n",
        "        </td>  \n",
        "    </tr>\n",
        "</table>"
      ]
    },
    {
      "cell_type": "markdown",
      "metadata": {
        "id": "KsqjOVRWntDe"
      },
      "source": [
        "---\n",
        "## <font color='264CC7'> Introducción </font>\n",
        "\n",
        "A lo largo de este taller, aplicaremos optimización de hiperparámetros en un modelo que elijas."
      ]
    },
    {
      "cell_type": "markdown",
      "metadata": {
        "id": "K1rlPzcRntDf"
      },
      "source": [
        "Los paquetes necesarios son:"
      ]
    },
    {
      "cell_type": "code",
      "execution_count": 1,
      "metadata": {
        "id": "NTljoei8ntDf"
      },
      "outputs": [],
      "source": [
        "# Paquetes necesarios\n",
        "import pandas as pd  # Manejo de datos\n",
        "from sklearn.model_selection import train_test_split, GridSearchCV, KFold, RandomizedSearchCV\n",
        "from sklearn.ensemble import RandomForestClassifier\n",
        "import joblib"
      ]
    },
    {
      "cell_type": "markdown",
      "metadata": {
        "id": "ixTDd_7RntDg"
      },
      "source": [
        "---\n",
        "## <font color='264CC7'> Clasificación </font>"
      ]
    },
    {
      "cell_type": "markdown",
      "metadata": {
        "id": "5vKKgGsnntDh"
      },
      "source": [
        "\n",
        "### <font color='264CC7'> Preprocesamiento de datos </font>"
      ]
    },
    {
      "cell_type": "markdown",
      "metadata": {
        "id": "vDYNnjU6ntDh"
      },
      "source": [
        "Primero necesitas el conjunto de datos. Los datos a utilzar son los seleccionados en la clase anterior.\n",
        "\n",
        "<div style=\"background-color: #edf1f8; border-color: #264CC7; border-left: 5px solid #264CC7; padding: 0.5em;\">\n",
        "<strong>Ejercicio:</strong><br>\n",
        "    Carga el conjunto de datos y procésalos:\n",
        "<ul>\n",
        "  <li>Muestra algunos datos.</li>\n",
        "  <li>Muestra una descripción de los datos.</li>\n",
        "  <li>Escala los datos si es necesario.</li>\n",
        "</ul>\n",
        "</div>"
      ]
    },
    {
      "cell_type": "code",
      "execution_count": 2,
      "metadata": {
        "id": "tQLtFv_qntDi",
        "colab": {
          "base_uri": "https://localhost:8080/",
          "height": 104
        },
        "outputId": "611542e4-7574-42cc-d31d-2515d0276305"
      },
      "outputs": [
        {
          "output_type": "stream",
          "name": "stderr",
          "text": [
            "Downloading...\n",
            "From: https://drive.google.com/uc?id=1fIoyvM7Ow0hZoq5ThBetJyOzSgxSDYfP\n",
            "To: /content/FakeBills-dataset.csv\n",
            "100%|██████████| 65.5k/65.5k [00:00<00:00, 5.73MB/s]\n"
          ]
        },
        {
          "output_type": "execute_result",
          "data": {
            "text/plain": [
              "'FakeBills-dataset.csv'"
            ],
            "application/vnd.google.colaboratory.intrinsic+json": {
              "type": "string"
            }
          },
          "metadata": {},
          "execution_count": 2
        }
      ],
      "source": [
        "# Instalar gdown en caso de que no esté disponible\n",
        "!pip install gdown --quiet\n",
        "\n",
        "# Descargar el archivo desde el link público de Google Drive\n",
        "import gdown\n",
        "\n",
        "# Usar el ID del archivo proporcionado\n",
        "file_id = \"1fIoyvM7Ow0hZoq5ThBetJyOzSgxSDYfP\"\n",
        "url = f\"https://drive.google.com/uc?id={file_id}\"\n",
        "\n",
        "# Nombre del archivo a guardar\n",
        "output = \"FakeBills-dataset.csv\"\n",
        "\n",
        "# Descargar el archivo\n",
        "gdown.download(url, output, quiet=False)"
      ]
    },
    {
      "cell_type": "code",
      "source": [
        "# Cargar el dataset descargado\n",
        "df = pd.read_csv(output)\n",
        "# Cargar el dataset descargado con el separador adecuado\n",
        "df = pd.read_csv(output, sep=';')\n",
        "# Mostrar los primeros registros\n",
        "print(\"Primeros registros del dataset:\")\n",
        "print(df.head())\n",
        "\n",
        "# Mostrar una descripción de los datos\n",
        "print(\"\\nDescripción estadística del dataset:\")\n",
        "print(df.describe())"
      ],
      "metadata": {
        "colab": {
          "base_uri": "https://localhost:8080/"
        },
        "id": "1AFZKTBgqFfq",
        "outputId": "edb08bbb-dd99-4169-c4c6-1c983e003b74"
      },
      "execution_count": 3,
      "outputs": [
        {
          "output_type": "stream",
          "name": "stdout",
          "text": [
            "Primeros registros del dataset:\n",
            "   is_genuine  diagonal  height_left  height_right  margin_low  margin_up  \\\n",
            "0        True    171.81       104.86        104.95        4.52       2.89   \n",
            "1        True    171.46       103.36        103.66        3.77       2.99   \n",
            "2        True    172.69       104.48        103.50        4.40       2.94   \n",
            "3        True    171.36       103.91        103.94        3.62       3.01   \n",
            "4        True    171.73       104.28        103.46        4.04       3.48   \n",
            "\n",
            "   length  \n",
            "0  112.83  \n",
            "1  113.09  \n",
            "2  113.16  \n",
            "3  113.51  \n",
            "4  112.54  \n",
            "\n",
            "Descripción estadística del dataset:\n",
            "          diagonal  height_left  height_right   margin_low    margin_up  \\\n",
            "count  1500.000000  1500.000000   1500.000000  1463.000000  1500.000000   \n",
            "mean    171.958440   104.029533    103.920307     4.485967     3.151473   \n",
            "std       0.305195     0.299462      0.325627     0.663813     0.231813   \n",
            "min     171.040000   103.140000    102.820000     2.980000     2.270000   \n",
            "25%     171.750000   103.820000    103.710000     4.015000     2.990000   \n",
            "50%     171.960000   104.040000    103.920000     4.310000     3.140000   \n",
            "75%     172.170000   104.230000    104.150000     4.870000     3.310000   \n",
            "max     173.010000   104.880000    104.950000     6.900000     3.910000   \n",
            "\n",
            "           length  \n",
            "count  1500.00000  \n",
            "mean    112.67850  \n",
            "std       0.87273  \n",
            "min     109.49000  \n",
            "25%     112.03000  \n",
            "50%     112.96000  \n",
            "75%     113.34000  \n",
            "max     114.44000  \n"
          ]
        }
      ]
    },
    {
      "cell_type": "code",
      "source": [
        "# Verificar si hay valores faltantes\n",
        "print(\"\\nValores faltantes por columna:\")\n",
        "print(df.isnull().sum())"
      ],
      "metadata": {
        "colab": {
          "base_uri": "https://localhost:8080/"
        },
        "id": "eOs0n5nlvg5i",
        "outputId": "e536b09c-d90f-4774-d7b3-80962661ec2a"
      },
      "execution_count": 4,
      "outputs": [
        {
          "output_type": "stream",
          "name": "stdout",
          "text": [
            "\n",
            "Valores faltantes por columna:\n",
            "is_genuine       0\n",
            "diagonal         0\n",
            "height_left      0\n",
            "height_right     0\n",
            "margin_low      37\n",
            "margin_up        0\n",
            "length           0\n",
            "dtype: int64\n"
          ]
        }
      ]
    },
    {
      "cell_type": "code",
      "source": [
        "# Manejar valores faltantes (rellenarlos con la mediana)\n",
        "df.fillna(df.median(), inplace=True)"
      ],
      "metadata": {
        "id": "QXHrd0J7vlNx"
      },
      "execution_count": 5,
      "outputs": []
    },
    {
      "cell_type": "code",
      "source": [
        "# Verificar nuevamente valores faltantes después de la imputación\n",
        "print(\"\\nValores faltantes después de la imputación:\")\n",
        "print(df.isnull().sum())"
      ],
      "metadata": {
        "colab": {
          "base_uri": "https://localhost:8080/"
        },
        "id": "oj8FnbJMvoNp",
        "outputId": "618da72f-046a-43b3-cfc9-45433da61d9a"
      },
      "execution_count": 6,
      "outputs": [
        {
          "output_type": "stream",
          "name": "stdout",
          "text": [
            "\n",
            "Valores faltantes después de la imputación:\n",
            "is_genuine      0\n",
            "diagonal        0\n",
            "height_left     0\n",
            "height_right    0\n",
            "margin_low      0\n",
            "margin_up       0\n",
            "length          0\n",
            "dtype: int64\n"
          ]
        }
      ]
    },
    {
      "cell_type": "code",
      "source": [
        "# Definir X (variables predictoras) y y (variable objetivo)\n",
        "X = df.drop(columns=['is_genuine'])  # Todas las columnas excepto la variable objetivo\n",
        "y = df['is_genuine']  # Variable objetivo (True o False)"
      ],
      "metadata": {
        "id": "FFVn2YUTx2V9"
      },
      "execution_count": 7,
      "outputs": []
    },
    {
      "cell_type": "code",
      "source": [
        "# Dividir el dataset en entrenamiento y prueba con estratificación porque y es categórica\n",
        "X_train, X_test, y_train, y_test = train_test_split(X, y, test_size=0.2, random_state=42, stratify=y)\n",
        "\n",
        "# Verificar la distribución en los conjuntos\n",
        "print(\"Distribución en y_train:\\n\", y_train.value_counts())\n",
        "print(\"\\nDistribución en y_test:\\n\", y_test.value_counts())"
      ],
      "metadata": {
        "colab": {
          "base_uri": "https://localhost:8080/"
        },
        "id": "IOlssvi8yGKg",
        "outputId": "8ab72fb2-bc33-4f86-a79d-9b839fc8e6f0"
      },
      "execution_count": 8,
      "outputs": [
        {
          "output_type": "stream",
          "name": "stdout",
          "text": [
            "Distribución en y_train:\n",
            " is_genuine\n",
            "True     800\n",
            "False    400\n",
            "Name: count, dtype: int64\n",
            "\n",
            "Distribución en y_test:\n",
            " is_genuine\n",
            "True     200\n",
            "False    100\n",
            "Name: count, dtype: int64\n"
          ]
        }
      ]
    },
    {
      "cell_type": "markdown",
      "metadata": {
        "id": "AC3nyUx8ntDi"
      },
      "source": [
        "\n",
        "### <font color='264CC7'> Modelo </font>\n"
      ]
    },
    {
      "cell_type": "markdown",
      "metadata": {
        "id": "RJRjSMw1ntDi"
      },
      "source": [
        "<div style=\"background-color: #edf1f8; border-color: #264CC7; border-left: 5px solid #264CC7; padding: 0.5em;\">\n",
        "<strong>Ejercicio:</strong><br>\n",
        "    Selecciona el mejor modelo de las clases anteriores.\n",
        "<ul>\n",
        "  <li>Muestra los hiperparámetros del modelo.</li>\n",
        "  <li>Consulta qué significan al menos 4 hiperparámetros.</li>\n",
        "  <li>Selecciona los hiperparámetros que deseas optimizar, al menos 3.</li>\n",
        "</ul>\n",
        "</div>"
      ]
    },
    {
      "cell_type": "code",
      "source": [
        "# Crear y entrenar un arbol con ganancia de información\n",
        "modelo_base = RandomForestClassifier(random_state=54)\n",
        "\n",
        "# Parámetros del modelo\n",
        "modelo_base.get_params()"
      ],
      "metadata": {
        "colab": {
          "base_uri": "https://localhost:8080/"
        },
        "id": "PEb4XF4stK2O",
        "outputId": "94c262f4-58ae-44a9-d573-e0f2e66b07c3"
      },
      "execution_count": 9,
      "outputs": [
        {
          "output_type": "execute_result",
          "data": {
            "text/plain": [
              "{'bootstrap': True,\n",
              " 'ccp_alpha': 0.0,\n",
              " 'class_weight': None,\n",
              " 'criterion': 'gini',\n",
              " 'max_depth': None,\n",
              " 'max_features': 'sqrt',\n",
              " 'max_leaf_nodes': None,\n",
              " 'max_samples': None,\n",
              " 'min_impurity_decrease': 0.0,\n",
              " 'min_samples_leaf': 1,\n",
              " 'min_samples_split': 2,\n",
              " 'min_weight_fraction_leaf': 0.0,\n",
              " 'monotonic_cst': None,\n",
              " 'n_estimators': 100,\n",
              " 'n_jobs': None,\n",
              " 'oob_score': False,\n",
              " 'random_state': 54,\n",
              " 'verbose': 0,\n",
              " 'warm_start': False}"
            ]
          },
          "metadata": {},
          "execution_count": 9
        }
      ]
    },
    {
      "cell_type": "markdown",
      "source": [
        "\n",
        "Para optimizar el modelo RandomForestClassifier, seleccionaremos tres hiperparámetros clave. Primero, n_estimators, que determina la cantidad de árboles en el bosque; un mayor número de árboles puede mejorar la estabilidad del modelo, pero aumenta el costo computacional, por lo que probaremos con valores de [10, 50, 100]. Luego, max_depth, que define la profundidad máxima de los árboles y ayuda a controlar el sobreajuste; exploraremos los valores [None, 5, 10, 20] para evaluar el impacto en la generalización del modelo. Finalmente, min_samples_split, que establece el número mínimo de muestras necesarias para dividir un nodo y afecta la complejidad del modelo, probando valores de [2, 5, 10] para encontrar el equilibrio entre sobreajuste y subajuste."
      ],
      "metadata": {
        "id": "lQAi4sJOt0Wl"
      }
    },
    {
      "cell_type": "markdown",
      "metadata": {
        "id": "0Mqq6yqontDj"
      },
      "source": [
        "### <font color='264CC7'> Optimización por GridSearch </font>"
      ]
    },
    {
      "cell_type": "markdown",
      "metadata": {
        "id": "XmzTObtrntDj"
      },
      "source": [
        "<div style=\"background-color: #edf1f8; border-color: #264CC7; border-left: 5px solid #264CC7; padding: 0.5em;\">\n",
        "<strong>Ejercicio:</strong><br>\n",
        "    Aplica GridSearch para optimizar los hiperparámetros del modelo.\n",
        "<ul>\n",
        "  <li>Para cada hiperparámetro, selecciona al menos 3 valores, si es posible.</li>\n",
        "  <li>Utiliza al menos 5 validaciones cruzadas.</li>\n",
        "  <li>Muestra los parámetros óptimos y su score.</li>\n",
        "</ul>\n",
        "</div>"
      ]
    },
    {
      "cell_type": "code",
      "execution_count": 10,
      "metadata": {
        "id": "KN8kdzw8ntDj",
        "colab": {
          "base_uri": "https://localhost:8080/",
          "height": 167
        },
        "outputId": "52ecd47b-2d26-4a4a-aaa8-d2fb18944cf8"
      },
      "outputs": [
        {
          "output_type": "execute_result",
          "data": {
            "text/plain": [
              "GridSearchCV(cv=KFold(n_splits=5, random_state=54, shuffle=True),\n",
              "             estimator=RandomForestClassifier(random_state=54), n_jobs=-1,\n",
              "             param_grid={'max_depth': [None, 5, 10, 20],\n",
              "                         'min_samples_split': [2, 5, 10],\n",
              "                         'n_estimators': [10, 50, 100]},\n",
              "             scoring='accuracy')"
            ],
            "text/html": [
              "<style>#sk-container-id-1 {\n",
              "  /* Definition of color scheme common for light and dark mode */\n",
              "  --sklearn-color-text: #000;\n",
              "  --sklearn-color-text-muted: #666;\n",
              "  --sklearn-color-line: gray;\n",
              "  /* Definition of color scheme for unfitted estimators */\n",
              "  --sklearn-color-unfitted-level-0: #fff5e6;\n",
              "  --sklearn-color-unfitted-level-1: #f6e4d2;\n",
              "  --sklearn-color-unfitted-level-2: #ffe0b3;\n",
              "  --sklearn-color-unfitted-level-3: chocolate;\n",
              "  /* Definition of color scheme for fitted estimators */\n",
              "  --sklearn-color-fitted-level-0: #f0f8ff;\n",
              "  --sklearn-color-fitted-level-1: #d4ebff;\n",
              "  --sklearn-color-fitted-level-2: #b3dbfd;\n",
              "  --sklearn-color-fitted-level-3: cornflowerblue;\n",
              "\n",
              "  /* Specific color for light theme */\n",
              "  --sklearn-color-text-on-default-background: var(--sg-text-color, var(--theme-code-foreground, var(--jp-content-font-color1, black)));\n",
              "  --sklearn-color-background: var(--sg-background-color, var(--theme-background, var(--jp-layout-color0, white)));\n",
              "  --sklearn-color-border-box: var(--sg-text-color, var(--theme-code-foreground, var(--jp-content-font-color1, black)));\n",
              "  --sklearn-color-icon: #696969;\n",
              "\n",
              "  @media (prefers-color-scheme: dark) {\n",
              "    /* Redefinition of color scheme for dark theme */\n",
              "    --sklearn-color-text-on-default-background: var(--sg-text-color, var(--theme-code-foreground, var(--jp-content-font-color1, white)));\n",
              "    --sklearn-color-background: var(--sg-background-color, var(--theme-background, var(--jp-layout-color0, #111)));\n",
              "    --sklearn-color-border-box: var(--sg-text-color, var(--theme-code-foreground, var(--jp-content-font-color1, white)));\n",
              "    --sklearn-color-icon: #878787;\n",
              "  }\n",
              "}\n",
              "\n",
              "#sk-container-id-1 {\n",
              "  color: var(--sklearn-color-text);\n",
              "}\n",
              "\n",
              "#sk-container-id-1 pre {\n",
              "  padding: 0;\n",
              "}\n",
              "\n",
              "#sk-container-id-1 input.sk-hidden--visually {\n",
              "  border: 0;\n",
              "  clip: rect(1px 1px 1px 1px);\n",
              "  clip: rect(1px, 1px, 1px, 1px);\n",
              "  height: 1px;\n",
              "  margin: -1px;\n",
              "  overflow: hidden;\n",
              "  padding: 0;\n",
              "  position: absolute;\n",
              "  width: 1px;\n",
              "}\n",
              "\n",
              "#sk-container-id-1 div.sk-dashed-wrapped {\n",
              "  border: 1px dashed var(--sklearn-color-line);\n",
              "  margin: 0 0.4em 0.5em 0.4em;\n",
              "  box-sizing: border-box;\n",
              "  padding-bottom: 0.4em;\n",
              "  background-color: var(--sklearn-color-background);\n",
              "}\n",
              "\n",
              "#sk-container-id-1 div.sk-container {\n",
              "  /* jupyter's `normalize.less` sets `[hidden] { display: none; }`\n",
              "     but bootstrap.min.css set `[hidden] { display: none !important; }`\n",
              "     so we also need the `!important` here to be able to override the\n",
              "     default hidden behavior on the sphinx rendered scikit-learn.org.\n",
              "     See: https://github.com/scikit-learn/scikit-learn/issues/21755 */\n",
              "  display: inline-block !important;\n",
              "  position: relative;\n",
              "}\n",
              "\n",
              "#sk-container-id-1 div.sk-text-repr-fallback {\n",
              "  display: none;\n",
              "}\n",
              "\n",
              "div.sk-parallel-item,\n",
              "div.sk-serial,\n",
              "div.sk-item {\n",
              "  /* draw centered vertical line to link estimators */\n",
              "  background-image: linear-gradient(var(--sklearn-color-text-on-default-background), var(--sklearn-color-text-on-default-background));\n",
              "  background-size: 2px 100%;\n",
              "  background-repeat: no-repeat;\n",
              "  background-position: center center;\n",
              "}\n",
              "\n",
              "/* Parallel-specific style estimator block */\n",
              "\n",
              "#sk-container-id-1 div.sk-parallel-item::after {\n",
              "  content: \"\";\n",
              "  width: 100%;\n",
              "  border-bottom: 2px solid var(--sklearn-color-text-on-default-background);\n",
              "  flex-grow: 1;\n",
              "}\n",
              "\n",
              "#sk-container-id-1 div.sk-parallel {\n",
              "  display: flex;\n",
              "  align-items: stretch;\n",
              "  justify-content: center;\n",
              "  background-color: var(--sklearn-color-background);\n",
              "  position: relative;\n",
              "}\n",
              "\n",
              "#sk-container-id-1 div.sk-parallel-item {\n",
              "  display: flex;\n",
              "  flex-direction: column;\n",
              "}\n",
              "\n",
              "#sk-container-id-1 div.sk-parallel-item:first-child::after {\n",
              "  align-self: flex-end;\n",
              "  width: 50%;\n",
              "}\n",
              "\n",
              "#sk-container-id-1 div.sk-parallel-item:last-child::after {\n",
              "  align-self: flex-start;\n",
              "  width: 50%;\n",
              "}\n",
              "\n",
              "#sk-container-id-1 div.sk-parallel-item:only-child::after {\n",
              "  width: 0;\n",
              "}\n",
              "\n",
              "/* Serial-specific style estimator block */\n",
              "\n",
              "#sk-container-id-1 div.sk-serial {\n",
              "  display: flex;\n",
              "  flex-direction: column;\n",
              "  align-items: center;\n",
              "  background-color: var(--sklearn-color-background);\n",
              "  padding-right: 1em;\n",
              "  padding-left: 1em;\n",
              "}\n",
              "\n",
              "\n",
              "/* Toggleable style: style used for estimator/Pipeline/ColumnTransformer box that is\n",
              "clickable and can be expanded/collapsed.\n",
              "- Pipeline and ColumnTransformer use this feature and define the default style\n",
              "- Estimators will overwrite some part of the style using the `sk-estimator` class\n",
              "*/\n",
              "\n",
              "/* Pipeline and ColumnTransformer style (default) */\n",
              "\n",
              "#sk-container-id-1 div.sk-toggleable {\n",
              "  /* Default theme specific background. It is overwritten whether we have a\n",
              "  specific estimator or a Pipeline/ColumnTransformer */\n",
              "  background-color: var(--sklearn-color-background);\n",
              "}\n",
              "\n",
              "/* Toggleable label */\n",
              "#sk-container-id-1 label.sk-toggleable__label {\n",
              "  cursor: pointer;\n",
              "  display: flex;\n",
              "  width: 100%;\n",
              "  margin-bottom: 0;\n",
              "  padding: 0.5em;\n",
              "  box-sizing: border-box;\n",
              "  text-align: center;\n",
              "  align-items: start;\n",
              "  justify-content: space-between;\n",
              "  gap: 0.5em;\n",
              "}\n",
              "\n",
              "#sk-container-id-1 label.sk-toggleable__label .caption {\n",
              "  font-size: 0.6rem;\n",
              "  font-weight: lighter;\n",
              "  color: var(--sklearn-color-text-muted);\n",
              "}\n",
              "\n",
              "#sk-container-id-1 label.sk-toggleable__label-arrow:before {\n",
              "  /* Arrow on the left of the label */\n",
              "  content: \"▸\";\n",
              "  float: left;\n",
              "  margin-right: 0.25em;\n",
              "  color: var(--sklearn-color-icon);\n",
              "}\n",
              "\n",
              "#sk-container-id-1 label.sk-toggleable__label-arrow:hover:before {\n",
              "  color: var(--sklearn-color-text);\n",
              "}\n",
              "\n",
              "/* Toggleable content - dropdown */\n",
              "\n",
              "#sk-container-id-1 div.sk-toggleable__content {\n",
              "  max-height: 0;\n",
              "  max-width: 0;\n",
              "  overflow: hidden;\n",
              "  text-align: left;\n",
              "  /* unfitted */\n",
              "  background-color: var(--sklearn-color-unfitted-level-0);\n",
              "}\n",
              "\n",
              "#sk-container-id-1 div.sk-toggleable__content.fitted {\n",
              "  /* fitted */\n",
              "  background-color: var(--sklearn-color-fitted-level-0);\n",
              "}\n",
              "\n",
              "#sk-container-id-1 div.sk-toggleable__content pre {\n",
              "  margin: 0.2em;\n",
              "  border-radius: 0.25em;\n",
              "  color: var(--sklearn-color-text);\n",
              "  /* unfitted */\n",
              "  background-color: var(--sklearn-color-unfitted-level-0);\n",
              "}\n",
              "\n",
              "#sk-container-id-1 div.sk-toggleable__content.fitted pre {\n",
              "  /* unfitted */\n",
              "  background-color: var(--sklearn-color-fitted-level-0);\n",
              "}\n",
              "\n",
              "#sk-container-id-1 input.sk-toggleable__control:checked~div.sk-toggleable__content {\n",
              "  /* Expand drop-down */\n",
              "  max-height: 200px;\n",
              "  max-width: 100%;\n",
              "  overflow: auto;\n",
              "}\n",
              "\n",
              "#sk-container-id-1 input.sk-toggleable__control:checked~label.sk-toggleable__label-arrow:before {\n",
              "  content: \"▾\";\n",
              "}\n",
              "\n",
              "/* Pipeline/ColumnTransformer-specific style */\n",
              "\n",
              "#sk-container-id-1 div.sk-label input.sk-toggleable__control:checked~label.sk-toggleable__label {\n",
              "  color: var(--sklearn-color-text);\n",
              "  background-color: var(--sklearn-color-unfitted-level-2);\n",
              "}\n",
              "\n",
              "#sk-container-id-1 div.sk-label.fitted input.sk-toggleable__control:checked~label.sk-toggleable__label {\n",
              "  background-color: var(--sklearn-color-fitted-level-2);\n",
              "}\n",
              "\n",
              "/* Estimator-specific style */\n",
              "\n",
              "/* Colorize estimator box */\n",
              "#sk-container-id-1 div.sk-estimator input.sk-toggleable__control:checked~label.sk-toggleable__label {\n",
              "  /* unfitted */\n",
              "  background-color: var(--sklearn-color-unfitted-level-2);\n",
              "}\n",
              "\n",
              "#sk-container-id-1 div.sk-estimator.fitted input.sk-toggleable__control:checked~label.sk-toggleable__label {\n",
              "  /* fitted */\n",
              "  background-color: var(--sklearn-color-fitted-level-2);\n",
              "}\n",
              "\n",
              "#sk-container-id-1 div.sk-label label.sk-toggleable__label,\n",
              "#sk-container-id-1 div.sk-label label {\n",
              "  /* The background is the default theme color */\n",
              "  color: var(--sklearn-color-text-on-default-background);\n",
              "}\n",
              "\n",
              "/* On hover, darken the color of the background */\n",
              "#sk-container-id-1 div.sk-label:hover label.sk-toggleable__label {\n",
              "  color: var(--sklearn-color-text);\n",
              "  background-color: var(--sklearn-color-unfitted-level-2);\n",
              "}\n",
              "\n",
              "/* Label box, darken color on hover, fitted */\n",
              "#sk-container-id-1 div.sk-label.fitted:hover label.sk-toggleable__label.fitted {\n",
              "  color: var(--sklearn-color-text);\n",
              "  background-color: var(--sklearn-color-fitted-level-2);\n",
              "}\n",
              "\n",
              "/* Estimator label */\n",
              "\n",
              "#sk-container-id-1 div.sk-label label {\n",
              "  font-family: monospace;\n",
              "  font-weight: bold;\n",
              "  display: inline-block;\n",
              "  line-height: 1.2em;\n",
              "}\n",
              "\n",
              "#sk-container-id-1 div.sk-label-container {\n",
              "  text-align: center;\n",
              "}\n",
              "\n",
              "/* Estimator-specific */\n",
              "#sk-container-id-1 div.sk-estimator {\n",
              "  font-family: monospace;\n",
              "  border: 1px dotted var(--sklearn-color-border-box);\n",
              "  border-radius: 0.25em;\n",
              "  box-sizing: border-box;\n",
              "  margin-bottom: 0.5em;\n",
              "  /* unfitted */\n",
              "  background-color: var(--sklearn-color-unfitted-level-0);\n",
              "}\n",
              "\n",
              "#sk-container-id-1 div.sk-estimator.fitted {\n",
              "  /* fitted */\n",
              "  background-color: var(--sklearn-color-fitted-level-0);\n",
              "}\n",
              "\n",
              "/* on hover */\n",
              "#sk-container-id-1 div.sk-estimator:hover {\n",
              "  /* unfitted */\n",
              "  background-color: var(--sklearn-color-unfitted-level-2);\n",
              "}\n",
              "\n",
              "#sk-container-id-1 div.sk-estimator.fitted:hover {\n",
              "  /* fitted */\n",
              "  background-color: var(--sklearn-color-fitted-level-2);\n",
              "}\n",
              "\n",
              "/* Specification for estimator info (e.g. \"i\" and \"?\") */\n",
              "\n",
              "/* Common style for \"i\" and \"?\" */\n",
              "\n",
              ".sk-estimator-doc-link,\n",
              "a:link.sk-estimator-doc-link,\n",
              "a:visited.sk-estimator-doc-link {\n",
              "  float: right;\n",
              "  font-size: smaller;\n",
              "  line-height: 1em;\n",
              "  font-family: monospace;\n",
              "  background-color: var(--sklearn-color-background);\n",
              "  border-radius: 1em;\n",
              "  height: 1em;\n",
              "  width: 1em;\n",
              "  text-decoration: none !important;\n",
              "  margin-left: 0.5em;\n",
              "  text-align: center;\n",
              "  /* unfitted */\n",
              "  border: var(--sklearn-color-unfitted-level-1) 1pt solid;\n",
              "  color: var(--sklearn-color-unfitted-level-1);\n",
              "}\n",
              "\n",
              ".sk-estimator-doc-link.fitted,\n",
              "a:link.sk-estimator-doc-link.fitted,\n",
              "a:visited.sk-estimator-doc-link.fitted {\n",
              "  /* fitted */\n",
              "  border: var(--sklearn-color-fitted-level-1) 1pt solid;\n",
              "  color: var(--sklearn-color-fitted-level-1);\n",
              "}\n",
              "\n",
              "/* On hover */\n",
              "div.sk-estimator:hover .sk-estimator-doc-link:hover,\n",
              ".sk-estimator-doc-link:hover,\n",
              "div.sk-label-container:hover .sk-estimator-doc-link:hover,\n",
              ".sk-estimator-doc-link:hover {\n",
              "  /* unfitted */\n",
              "  background-color: var(--sklearn-color-unfitted-level-3);\n",
              "  color: var(--sklearn-color-background);\n",
              "  text-decoration: none;\n",
              "}\n",
              "\n",
              "div.sk-estimator.fitted:hover .sk-estimator-doc-link.fitted:hover,\n",
              ".sk-estimator-doc-link.fitted:hover,\n",
              "div.sk-label-container:hover .sk-estimator-doc-link.fitted:hover,\n",
              ".sk-estimator-doc-link.fitted:hover {\n",
              "  /* fitted */\n",
              "  background-color: var(--sklearn-color-fitted-level-3);\n",
              "  color: var(--sklearn-color-background);\n",
              "  text-decoration: none;\n",
              "}\n",
              "\n",
              "/* Span, style for the box shown on hovering the info icon */\n",
              ".sk-estimator-doc-link span {\n",
              "  display: none;\n",
              "  z-index: 9999;\n",
              "  position: relative;\n",
              "  font-weight: normal;\n",
              "  right: .2ex;\n",
              "  padding: .5ex;\n",
              "  margin: .5ex;\n",
              "  width: min-content;\n",
              "  min-width: 20ex;\n",
              "  max-width: 50ex;\n",
              "  color: var(--sklearn-color-text);\n",
              "  box-shadow: 2pt 2pt 4pt #999;\n",
              "  /* unfitted */\n",
              "  background: var(--sklearn-color-unfitted-level-0);\n",
              "  border: .5pt solid var(--sklearn-color-unfitted-level-3);\n",
              "}\n",
              "\n",
              ".sk-estimator-doc-link.fitted span {\n",
              "  /* fitted */\n",
              "  background: var(--sklearn-color-fitted-level-0);\n",
              "  border: var(--sklearn-color-fitted-level-3);\n",
              "}\n",
              "\n",
              ".sk-estimator-doc-link:hover span {\n",
              "  display: block;\n",
              "}\n",
              "\n",
              "/* \"?\"-specific style due to the `<a>` HTML tag */\n",
              "\n",
              "#sk-container-id-1 a.estimator_doc_link {\n",
              "  float: right;\n",
              "  font-size: 1rem;\n",
              "  line-height: 1em;\n",
              "  font-family: monospace;\n",
              "  background-color: var(--sklearn-color-background);\n",
              "  border-radius: 1rem;\n",
              "  height: 1rem;\n",
              "  width: 1rem;\n",
              "  text-decoration: none;\n",
              "  /* unfitted */\n",
              "  color: var(--sklearn-color-unfitted-level-1);\n",
              "  border: var(--sklearn-color-unfitted-level-1) 1pt solid;\n",
              "}\n",
              "\n",
              "#sk-container-id-1 a.estimator_doc_link.fitted {\n",
              "  /* fitted */\n",
              "  border: var(--sklearn-color-fitted-level-1) 1pt solid;\n",
              "  color: var(--sklearn-color-fitted-level-1);\n",
              "}\n",
              "\n",
              "/* On hover */\n",
              "#sk-container-id-1 a.estimator_doc_link:hover {\n",
              "  /* unfitted */\n",
              "  background-color: var(--sklearn-color-unfitted-level-3);\n",
              "  color: var(--sklearn-color-background);\n",
              "  text-decoration: none;\n",
              "}\n",
              "\n",
              "#sk-container-id-1 a.estimator_doc_link.fitted:hover {\n",
              "  /* fitted */\n",
              "  background-color: var(--sklearn-color-fitted-level-3);\n",
              "}\n",
              "</style><div id=\"sk-container-id-1\" class=\"sk-top-container\"><div class=\"sk-text-repr-fallback\"><pre>GridSearchCV(cv=KFold(n_splits=5, random_state=54, shuffle=True),\n",
              "             estimator=RandomForestClassifier(random_state=54), n_jobs=-1,\n",
              "             param_grid={&#x27;max_depth&#x27;: [None, 5, 10, 20],\n",
              "                         &#x27;min_samples_split&#x27;: [2, 5, 10],\n",
              "                         &#x27;n_estimators&#x27;: [10, 50, 100]},\n",
              "             scoring=&#x27;accuracy&#x27;)</pre><b>In a Jupyter environment, please rerun this cell to show the HTML representation or trust the notebook. <br />On GitHub, the HTML representation is unable to render, please try loading this page with nbviewer.org.</b></div><div class=\"sk-container\" hidden><div class=\"sk-item sk-dashed-wrapped\"><div class=\"sk-label-container\"><div class=\"sk-label fitted sk-toggleable\"><input class=\"sk-toggleable__control sk-hidden--visually\" id=\"sk-estimator-id-1\" type=\"checkbox\" ><label for=\"sk-estimator-id-1\" class=\"sk-toggleable__label fitted sk-toggleable__label-arrow\"><div><div>GridSearchCV</div></div><div><a class=\"sk-estimator-doc-link fitted\" rel=\"noreferrer\" target=\"_blank\" href=\"https://scikit-learn.org/1.6/modules/generated/sklearn.model_selection.GridSearchCV.html\">?<span>Documentation for GridSearchCV</span></a><span class=\"sk-estimator-doc-link fitted\">i<span>Fitted</span></span></div></label><div class=\"sk-toggleable__content fitted\"><pre>GridSearchCV(cv=KFold(n_splits=5, random_state=54, shuffle=True),\n",
              "             estimator=RandomForestClassifier(random_state=54), n_jobs=-1,\n",
              "             param_grid={&#x27;max_depth&#x27;: [None, 5, 10, 20],\n",
              "                         &#x27;min_samples_split&#x27;: [2, 5, 10],\n",
              "                         &#x27;n_estimators&#x27;: [10, 50, 100]},\n",
              "             scoring=&#x27;accuracy&#x27;)</pre></div> </div></div><div class=\"sk-parallel\"><div class=\"sk-parallel-item\"><div class=\"sk-item\"><div class=\"sk-label-container\"><div class=\"sk-label fitted sk-toggleable\"><input class=\"sk-toggleable__control sk-hidden--visually\" id=\"sk-estimator-id-2\" type=\"checkbox\" ><label for=\"sk-estimator-id-2\" class=\"sk-toggleable__label fitted sk-toggleable__label-arrow\"><div><div>best_estimator_: RandomForestClassifier</div></div></label><div class=\"sk-toggleable__content fitted\"><pre>RandomForestClassifier(n_estimators=10, random_state=54)</pre></div> </div></div><div class=\"sk-serial\"><div class=\"sk-item\"><div class=\"sk-estimator fitted sk-toggleable\"><input class=\"sk-toggleable__control sk-hidden--visually\" id=\"sk-estimator-id-3\" type=\"checkbox\" ><label for=\"sk-estimator-id-3\" class=\"sk-toggleable__label fitted sk-toggleable__label-arrow\"><div><div>RandomForestClassifier</div></div><div><a class=\"sk-estimator-doc-link fitted\" rel=\"noreferrer\" target=\"_blank\" href=\"https://scikit-learn.org/1.6/modules/generated/sklearn.ensemble.RandomForestClassifier.html\">?<span>Documentation for RandomForestClassifier</span></a></div></label><div class=\"sk-toggleable__content fitted\"><pre>RandomForestClassifier(n_estimators=10, random_state=54)</pre></div> </div></div></div></div></div></div></div></div></div>"
            ]
          },
          "metadata": {},
          "execution_count": 10
        }
      ],
      "source": [
        "# Definir los hiperparámetros a optimizar\n",
        "parametros = {\n",
        "    'n_estimators': [10, 50, 100],\n",
        "    'max_depth': [None, 5, 10, 20],\n",
        "    'min_samples_split': [2, 5, 10]\n",
        "}\n",
        "\n",
        "# Configurar validación cruzada con 5 folds\n",
        "k_fold = KFold(n_splits=5, shuffle=True, random_state=54)\n",
        "\n",
        "# Aplicar GridSearchCV\n",
        "grid_search = GridSearchCV(modelo_base, parametros, cv=k_fold, scoring='accuracy', n_jobs=-1)\n",
        "grid_search.fit(X_train, y_train)"
      ]
    },
    {
      "cell_type": "code",
      "execution_count": 11,
      "metadata": {
        "id": "ZbcJmFNSntDj",
        "colab": {
          "base_uri": "https://localhost:8080/"
        },
        "outputId": "b0a81196-8562-4df1-a22d-b8733c58af1a"
      },
      "outputs": [
        {
          "output_type": "stream",
          "name": "stdout",
          "text": [
            "Mejores hiperparámetros: {'max_depth': None, 'min_samples_split': 2, 'n_estimators': 10}\n",
            "Mejor score: 0.9925\n"
          ]
        }
      ],
      "source": [
        "# Mostrar los mejores hiperparámetros y la mejor puntuación obtenida\n",
        "print(\"Mejores hiperparámetros:\", grid_search.best_params_)\n",
        "print(\"Mejor score:\", grid_search.best_score_)"
      ]
    },
    {
      "cell_type": "markdown",
      "source": [
        "En los resultados de la optimización de hiperparámetros, el modelo encontró que la mejor combinación de valores para RandomForestClassifier fue max_depth=None, min_samples_split=2 y n_estimators=10, obteniendo una precisión del 99.25% en la validación cruzada. Esto indica que el modelo generaliza bien con una estructura de árboles sin una profundidad máxima predefinida, permitiendo que cada árbol crezca hasta alcanzar la mejor separación posible, con un mínimo de dos muestras necesarias para dividir un nodo, lo que mantiene suficiente flexibilidad en la partición de datos."
      ],
      "metadata": {
        "id": "7o1njmDyzoF3"
      }
    },
    {
      "cell_type": "code",
      "source": [
        "from sklearn.metrics import accuracy_score, classification_report\n",
        "\n",
        "# Usar el mejor modelo encontrado por GridSearchCV\n",
        "modelo_optimo = grid_search.best_estimator_\n",
        "\n",
        "# Hacer predicciones en el conjunto de prueba\n",
        "y_pred = modelo_optimo.predict(X_test)\n",
        "\n",
        "# Evaluar el desempeño\n",
        "accuracy = accuracy_score(y_test, y_pred)\n",
        "print(\"Accuracy en el conjunto de prueba:\", accuracy)\n",
        "\n",
        "# Mostrar reporte de clasificación\n",
        "print(\"\\nReporte de clasificación:\\n\", classification_report(y_test, y_pred))"
      ],
      "metadata": {
        "colab": {
          "base_uri": "https://localhost:8080/"
        },
        "id": "U7OpbjA-y86m",
        "outputId": "7e182db7-6b38-4b2e-d401-3eb5ea629d3f"
      },
      "execution_count": 12,
      "outputs": [
        {
          "output_type": "stream",
          "name": "stdout",
          "text": [
            "Accuracy en el conjunto de prueba: 0.9866666666666667\n",
            "\n",
            "Reporte de clasificación:\n",
            "               precision    recall  f1-score   support\n",
            "\n",
            "       False       0.99      0.97      0.98       100\n",
            "        True       0.99      0.99      0.99       200\n",
            "\n",
            "    accuracy                           0.99       300\n",
            "   macro avg       0.99      0.98      0.98       300\n",
            "weighted avg       0.99      0.99      0.99       300\n",
            "\n"
          ]
        }
      ]
    },
    {
      "cell_type": "markdown",
      "metadata": {
        "id": "UqHI9PNfntDj"
      },
      "source": [
        "Al evaluar el modelo optimizado en el conjunto de prueba, se obtuvo una precisión global del 98.67%, lo que confirma un alto rendimiento. En términos de clasificación, la clase \"False\" (billetes falsos) presenta un recall del 97%, lo que indica que el modelo identificó correctamente la mayoría de los casos, aunque con un leve margen de error. En cambio, la clase \"True\" (billetes genuinos) tuvo un recall perfecto del 99%, asegurando que casi todos los billetes reales fueron clasificados correctamente. En general, el F1-score de ambas clases es alto (0.99), lo que demuestra un excelente equilibrio entre precisión y recall. Esto sugiere que el modelo es confiable para la detección de billetes falsos, minimizando tanto los falsos positivos como los falsos negativos."
      ]
    },
    {
      "cell_type": "markdown",
      "metadata": {
        "id": "XGxF0govntDj"
      },
      "source": [
        "### <font color='264CC7'> Optimización por RandomSearch </font>"
      ]
    },
    {
      "cell_type": "markdown",
      "metadata": {
        "id": "zKbw41v3ntDj"
      },
      "source": [
        "<div style=\"background-color: #edf1f8; border-color: #264CC7; border-left: 5px solid #264CC7; padding: 0.5em;\">\n",
        "<strong>Ejercicio:</strong><br>\n",
        "    Aplica RandomSearch para optimizar los hiperparámetros del modelo.\n",
        "<ul>\n",
        "  <li>Para cada hiperparámetro, selecciona al menos 5 valores, si es posible.</li>\n",
        "  <li>Utiliza al menos 5 validaciones cruzadas.</li>\n",
        "  <li>Usa RandomSearchCV con 25 iteraciones.</li>\n",
        "  <li>Muestra los parámetros óptimos y su score.</li>\n",
        "</ul>\n",
        "</div>"
      ]
    },
    {
      "cell_type": "code",
      "execution_count": 13,
      "metadata": {
        "id": "z-wNHtWfntDk"
      },
      "outputs": [],
      "source": [
        "# Definir los hiperparámetros a optimizar con al menos 5 valores por parámetro\n",
        "parametros_random = {\n",
        "    'n_estimators': [10, 50, 100, 150, 200],\n",
        "    'max_depth': [None, 5, 10, 15, 20],\n",
        "    'min_samples_split': [2, 5, 10, 15, 20],\n",
        "    'min_samples_leaf': [1, 2, 4, 6, 8],\n",
        "    'max_features': ['sqrt', 'log2', None]\n",
        "    }"
      ]
    },
    {
      "cell_type": "code",
      "execution_count": 14,
      "metadata": {
        "id": "-EdVGnThntDk"
      },
      "outputs": [],
      "source": [
        "# Configurar validación cruzada con 5 folds\n",
        "k_fold = KFold(n_splits=5, shuffle=True, random_state=54)\n",
        "\n",
        "# Aplicar RandomizedSearchCV con 25 iteraciones\n",
        "random_search = RandomizedSearchCV(\n",
        "    modelo_base,\n",
        "    parametros_random,\n",
        "    n_iter=25,\n",
        "    cv=k_fold,\n",
        "    scoring='accuracy',\n",
        "    random_state=54,\n",
        "    n_jobs=-1\n",
        ")"
      ]
    },
    {
      "cell_type": "code",
      "source": [
        "# Ajustar el modelo con los datos de entrenamiento\n",
        "random_search.fit(X_train, y_train)\n",
        "\n",
        "# Obtener los mejores parámetros y la mejor puntuación\n",
        "mejores_parametros_random = random_search.best_params_\n",
        "mejor_score_random = random_search.best_score_\n",
        "print(\"Mejores hiperparámetros:\", mejores_parametros_random)\n",
        "print(\"Mejor score:\", mejor_score_random)"
      ],
      "metadata": {
        "colab": {
          "base_uri": "https://localhost:8080/"
        },
        "id": "lrFQS5uP0XeQ",
        "outputId": "50228c5f-e976-4dfd-8d1b-7e2674d21f93"
      },
      "execution_count": 15,
      "outputs": [
        {
          "output_type": "stream",
          "name": "stdout",
          "text": [
            "Mejores hiperparámetros: {'n_estimators': 100, 'min_samples_split': 10, 'min_samples_leaf': 2, 'max_features': 'log2', 'max_depth': 20}\n",
            "Mejor score: 0.9916666666666666\n"
          ]
        }
      ]
    },
    {
      "cell_type": "markdown",
      "source": [
        "En cuanto a los resultados obtenidos, el mejor conjunto de hiperparámetros encontrado fue n_estimators=100, min_samples_split=10, min_samples_leaf=2, max_features='log2', y max_depth=20, logrando un score de 0.9916 en validación cruzada. Esto indica que un bosque con 100 árboles, profundidad limitada a 20 niveles y división de nodos con al menos 10 muestras proporciona el mejor balance entre rendimiento y generalización. La configuración de max_features='log2' sugiere que reducir la cantidad de atributos evaluados en cada división mejora la estabilidad del modelo, evitando ruido y sobreajuste. Estos resultados demuestran que RandomizedSearch puede encontrar hiperparámetros eficientes en menos iteraciones en comparación con GridSearch, permitiendo una exploración más amplia del espacio de búsqueda sin un costo computacional excesivo."
      ],
      "metadata": {
        "id": "JP7wuEmu2LGD"
      }
    },
    {
      "cell_type": "code",
      "source": [
        "# Definir el modelo con los mejores hiperparámetros\n",
        "modelo_optimo = RandomForestClassifier(\n",
        "    n_estimators=100,\n",
        "    max_depth=20,\n",
        "    min_samples_split=10,\n",
        "    min_samples_leaf=2,\n",
        "    max_features='log2',\n",
        "    random_state=54\n",
        ")\n",
        "\n",
        "# Entrenar el modelo en el conjunto de entrenamiento\n",
        "modelo_optimo.fit(X_train, y_train)\n",
        "\n",
        "# Realizar predicciones en el conjunto de prueba\n",
        "y_pred = modelo_optimo.predict(X_test)\n",
        "\n",
        "# Evaluar el rendimiento del modelo\n",
        "precision = accuracy_score(y_test, y_pred)\n",
        "print(f\"Precisión en el conjunto de prueba: {precision:.4f}\")\n",
        "\n",
        "# Mostrar el reporte de clasificación\n",
        "print(\"\\nReporte de clasificación:\\n\", classification_report(y_test, y_pred))"
      ],
      "metadata": {
        "colab": {
          "base_uri": "https://localhost:8080/"
        },
        "id": "3kb1lKKT2hLL",
        "outputId": "172a3adf-f56c-423e-f2b5-98edbe170304"
      },
      "execution_count": 16,
      "outputs": [
        {
          "output_type": "stream",
          "name": "stdout",
          "text": [
            "Precisión en el conjunto de prueba: 0.9867\n",
            "\n",
            "Reporte de clasificación:\n",
            "               precision    recall  f1-score   support\n",
            "\n",
            "       False       0.99      0.97      0.98       100\n",
            "        True       0.99      0.99      0.99       200\n",
            "\n",
            "    accuracy                           0.99       300\n",
            "   macro avg       0.99      0.98      0.98       300\n",
            "weighted avg       0.99      0.99      0.99       300\n",
            "\n"
          ]
        }
      ]
    },
    {
      "cell_type": "markdown",
      "source": [
        "\n",
        "El modelo optimizado con los mejores hiperparámetros fue entrenado y evaluado en el conjunto de prueba, obteniendo una alta precisión. Con n_estimators=100, max_depth=20, min_samples_split=10, min_samples_leaf=2 y max_features='log2', el RandomForestClassifier mostró un buen desempeño en la clasificación, asegurando que los árboles no sean ni demasiado profundos ni demasiado restrictivos en la división de nodos. La precisión obtenida en el conjunto de prueba refleja la capacidad del modelo para generalizar correctamente, minimizando errores de clasificación. El reporte de clasificación proporcionó métricas detalladas como precision, recall y F1-score, lo que permite verificar que el modelo es confiable para la detección de billetes falsos. El alto desempeño del modelo optimizado demuestra que RandomizedSearchCV permitió encontrar combinaciones de hiperparámetros más eficientes en comparación con un enfoque manual, logrando un balance entre complejidad y precisión."
      ],
      "metadata": {
        "id": "_pRjw9Kf23gT"
      }
    },
    {
      "cell_type": "markdown",
      "metadata": {
        "id": "ZnscXVgGntDk"
      },
      "source": [
        "### <font color='264CC7'> Guardado de modelo </font>"
      ]
    },
    {
      "cell_type": "markdown",
      "metadata": {
        "id": "zMV6dHKAntDl"
      },
      "source": [
        "<div style=\"background-color: #edf1f8; border-color: #264CC7; border-left: 5px solid #264CC7; padding: 0.5em;\">\n",
        "<strong>Ejercicio:</strong><br>\n",
        "  Con los parámetros óptimos que mejor resultado dieron, reentrena el modelo, muestra su score y guárdalo.\n",
        "</div>"
      ]
    },
    {
      "cell_type": "code",
      "execution_count": 17,
      "metadata": {
        "id": "MAYEL6oZntDl",
        "colab": {
          "base_uri": "https://localhost:8080/"
        },
        "outputId": "68c72311-78e9-4bd9-ddc2-80ea941c4b46"
      },
      "outputs": [
        {
          "output_type": "execute_result",
          "data": {
            "text/plain": [
              "(0.9866666666666667, 'modelo_random_forest.pkl')"
            ]
          },
          "metadata": {},
          "execution_count": 17
        }
      ],
      "source": [
        "# Definir el modelo con los mejores hiperparámetros\n",
        "modelo_final = RandomForestClassifier(\n",
        "    n_estimators=100,\n",
        "    max_depth=20,\n",
        "    min_samples_split=10,\n",
        "    min_samples_leaf=2,\n",
        "    max_features='log2',\n",
        "    random_state=54\n",
        ")\n",
        "\n",
        "# Reentrenar el modelo con todos los datos de entrenamiento\n",
        "modelo_final.fit(X_train, y_train)\n",
        "\n",
        "# Evaluar el modelo en el conjunto de prueba\n",
        "y_pred_final = modelo_final.predict(X_test)\n",
        "precision_final = accuracy_score(y_test, y_pred_final)\n",
        "\n",
        "# Guardar el modelo entrenado\n",
        "modelo_path = \"modelo_random_forest.pkl\"\n",
        "joblib.dump(modelo_final, modelo_path)\n",
        "\n",
        "# Mostrar la precisión del modelo final\n",
        "precision_final, modelo_path"
      ]
    },
    {
      "cell_type": "code",
      "execution_count": 18,
      "metadata": {
        "id": "ey0V3IFZntDl",
        "colab": {
          "base_uri": "https://localhost:8080/"
        },
        "outputId": "f15079b3-2610-47fa-ebce-7a432d206321"
      },
      "outputs": [
        {
          "output_type": "execute_result",
          "data": {
            "text/plain": [
              "(0.9866666666666667, 'modelo_random_forest_randomized.pkl')"
            ]
          },
          "metadata": {},
          "execution_count": 18
        }
      ],
      "source": [
        "# Reentrenar el modelo con los mejores hiperparámetros encontrados por RandomizedSearchCV\n",
        "modelo_final_random = RandomForestClassifier(\n",
        "    **mejores_parametros_random,  # Usar los hiperparámetros óptimos encontrados\n",
        "    random_state=54\n",
        ")\n",
        "\n",
        "# Ajustar el modelo en el conjunto de entrenamiento\n",
        "modelo_final_random.fit(X_train, y_train)\n",
        "\n",
        "# Evaluar el modelo en el conjunto de prueba\n",
        "y_pred_final_random = modelo_final_random.predict(X_test)\n",
        "precision_final_random = accuracy_score(y_test, y_pred_final_random)\n",
        "\n",
        "# Guardar el modelo entrenado con los hiperparámetros optimizados por RandomizedSearchCV\n",
        "modelo_random_path = \"modelo_random_forest_randomized.pkl\"\n",
        "joblib.dump(modelo_final_random, modelo_random_path)\n",
        "\n",
        "# Mostrar la precisión final y la ruta donde se guardó el modelo\n",
        "precision_final_random, modelo_random_path"
      ]
    },
    {
      "cell_type": "markdown",
      "metadata": {
        "id": "Ziou13t0ntDl"
      },
      "source": [
        "### <font color='264CC7'> Publicación </font>"
      ]
    },
    {
      "cell_type": "markdown",
      "metadata": {
        "id": "e_KhvXfvntDm"
      },
      "source": [
        "<div style=\"background-color: #edf1f8; border-color: #264CC7; border-left: 5px solid #264CC7; padding: 0.5em;\">\n",
        "<strong>Ejercicio:</strong><br>\n",
        "  Coloca el este cuaderno y el modelo en tu repositorio de GitHub. Agrega una licencia MIT y un README.md donde se explique el contenido del repositorio, los datos utilizados y los resultados obtenidos.\n",
        "</div>"
      ]
    },
    {
      "cell_type": "markdown",
      "source": [
        "Link : https://github.com/Dylanfm204/Optimizacion-Hiperparametros-DylanFlores"
      ],
      "metadata": {
        "id": "VyB4TrB9B2fI"
      }
    }
  ],
  "metadata": {
    "kernelspec": {
      "display_name": "Python 3",
      "language": "python",
      "name": "python3"
    },
    "language_info": {
      "codemirror_mode": {
        "name": "ipython",
        "version": 3
      },
      "file_extension": ".py",
      "mimetype": "text/x-python",
      "name": "python",
      "nbconvert_exporter": "python",
      "pygments_lexer": "ipython3",
      "version": "3.12.3"
    },
    "colab": {
      "provenance": [],
      "include_colab_link": true
    }
  },
  "nbformat": 4,
  "nbformat_minor": 0
}